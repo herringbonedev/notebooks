{
 "cells": [
  {
   "cell_type": "code",
   "execution_count": 5,
   "id": "fb12b090",
   "metadata": {},
   "outputs": [],
   "source": [
    "# herringbone/logs/* API\n",
    "#\n",
    "# Project Herringbone\n",
    "\n",
    "import requests\n",
    "import json\n",
    "import pprint\n",
    "\n",
    "https = False\n",
    "api = \"192.168.122.244\"\n",
    "port = 7002"
   ]
  },
  {
   "cell_type": "code",
   "execution_count": 7,
   "id": "59ceb267",
   "metadata": {},
   "outputs": [
    {
     "name": "stdout",
     "output_type": "stream",
     "text": [
      "'Response code: 200'\n",
      "Response content:\n",
      "[{'_id': {'$oid': '68b53cfa1bdf1985b51d7d5a'},\n",
      "  'last_processed': {'$date': '2025-09-01T06:28:46.939Z'},\n",
      "  'last_update': {'$date': '2025-09-01T06:28:10.341Z'},\n",
      "  'raw_log': '2025-09-01T03:47:13Z server01 sudo[1832]: alice : TTY=pts/1 ; '\n",
      "             'PWD=/home/alice ; USER=root ; COMMAND=/usr/bin/systemctl restart '\n",
      "             'apache2',\n",
      "  'recon': True,\n",
      "  'recon_data': {'confidence': '',\n",
      "                 'description': 'sudo[1832]',\n",
      "                 'ip_addresses': '',\n",
      "                 'log_type': '',\n",
      "                 'time': '2025-09-01T03:47:13Z',\n",
      "                 'user': 'alice/TTY=pts/1;PWD=/home/alice;USER=root;COMMAND=/usr/bin/systemctl '\n",
      "                         'restart apache2'},\n",
      "  'source_address': '192.168.122.1'},\n",
      " {'_id': {'$oid': '68b53cfa1bdf1985b51d7d59'},\n",
      "  'last_processed': {'$date': '2025-09-01T06:28:39.061Z'},\n",
      "  'last_update': {'$date': '2025-09-01T06:28:10.329Z'},\n",
      "  'raw_log': '2025-09-01T03:47:13Z server01 sshd[1832]: Accepted password for '\n",
      "             'user alice from 203.0.113.55 port 54022 ssh2',\n",
      "  'recon': True,\n",
      "  'recon_data': {'confidence': '',\n",
      "                 'description': 'Accepted password for user alice from '\n",
      "                                '203.0.113.55 port 54022 ssh2',\n",
      "                 'ip_addresses': '203.0.113.55',\n",
      "                 'log_type': 'login',\n",
      "                 'time': '2025-09-01T03:47:13Z',\n",
      "                 'user': 'alice'},\n",
      "  'source_address': '192.168.122.1'},\n",
      " {'_id': {'$oid': '68b53cfa1bdf1985b51d7d58'},\n",
      "  'last_processed': {'$date': '2025-09-01T06:28:31.290Z'},\n",
      "  'last_update': {'$date': '2025-09-01T06:28:10.289Z'},\n",
      "  'raw_log': '2025-09-01T03:47:12Z server01 kernel[4521]: [INFO] eth0: packet '\n",
      "             'dropped, src=192.168.1.44 dst=10.0.0.12 proto=UDP len=512',\n",
      "  'recon': True,\n",
      "  'recon_data': {'confidence': '',\n",
      "                 'description': 'eth0: packet dropped, src=192.168.1.44 '\n",
      "                                'dst=10.0.0.12 proto=UDP len=512',\n",
      "                 'ip_addresses': '',\n",
      "                 'log_type': '',\n",
      "                 'time': '2025-09-01T03:47:12Z',\n",
      "                 'user': ''},\n",
      "  'source_address': '192.168.122.1'},\n",
      " {'_id': {'$oid': '688fccf17da5388c9d854650'},\n",
      "  'last_processed': {'$date': '2025-08-03T20:56:38.040Z'},\n",
      "  'last_update': {'$date': '2025-08-03T20:56:17.856Z'},\n",
      "  'raw_log': '<134>Aug 3 15:42:01 myhost sshd[12345]: Failed password for root '\n",
      "             'from 192.168.1.50 port 22 ssh2',\n",
      "  'recon': True,\n",
      "  'recon_data': {'confidence': '',\n",
      "                 'description': 'Failed password for root from 192.168.1.50 '\n",
      "                                'port 22 ssh2',\n",
      "                 'ip_addresses': '192.168.1.50',\n",
      "                 'log_type': 'security',\n",
      "                 'time': 'Aug 3 15:42:01',\n",
      "                 'user': 'root'},\n",
      "  'source_address': ['192.168.122.1', 50114]}]\n"
     ]
    }
   ],
   "source": [
    "# Get all logs\n",
    "\n",
    "url = api +\":\"+ str(port) +\"/herringbone/logs/get_docs\"\n",
    "url = (\"https://\" if https else \"http://\") + url.lstrip(\"http://\").lstrip(\"https://\")\n",
    "\n",
    "response = requests.get(url)\n",
    "pprint.pprint(f\"Response code: {response.status_code}\")\n",
    "parsed = json.loads(response.content)\n",
    "print(\"Response content:\")\n",
    "pprint.pprint(parsed)"
   ]
  },
  {
   "cell_type": "code",
   "execution_count": null,
   "id": "8dc7fc87",
   "metadata": {},
   "outputs": [],
   "source": []
  }
 ],
 "metadata": {
  "kernelspec": {
   "display_name": "Python 3 (ipykernel)",
   "language": "python",
   "name": "python3"
  },
  "language_info": {
   "codemirror_mode": {
    "name": "ipython",
    "version": 3
   },
   "file_extension": ".py",
   "mimetype": "text/x-python",
   "name": "python",
   "nbconvert_exporter": "python",
   "pygments_lexer": "ipython3",
   "version": "3.12.3"
  }
 },
 "nbformat": 4,
 "nbformat_minor": 5
}

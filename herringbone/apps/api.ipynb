{
 "cells": [
  {
   "cell_type": "code",
   "execution_count": 7,
   "id": "7a1fa0ae",
   "metadata": {},
   "outputs": [],
   "source": [
    "# detectionengine/ruleset/* API\n",
    "#\n",
    "# Project Herringbone\n",
    "\n",
    "import requests\n",
    "import json\n",
    "import pprint\n",
    "\n",
    "https = False\n",
    "api = \"192.168.122.240\"\n",
    "port = 7002"
   ]
  },
  {
   "cell_type": "code",
   "execution_count": 8,
   "id": "0460a9ce",
   "metadata": {},
   "outputs": [],
   "source": [
    "# Get apps status\n",
    "\n",
    "url = api +\":\"+ str(port) +\"/herringbone/apps/status\"\n",
    "url = (\"https://\" if https else \"http://\") + url.lstrip(\"http://\").lstrip(\"https://\")\n",
    "\n",
    "response = requests.get(url)"
   ]
  },
  {
   "cell_type": "code",
   "execution_count": 9,
   "id": "af2aa9d6",
   "metadata": {},
   "outputs": [
    {
     "name": "stdout",
     "output_type": "stream",
     "text": [
      "Response code: 200\n",
      "'Response code: 200'\n",
      "Response content:\n",
      "{'mind_recon': 'Deployed'}\n"
     ]
    }
   ],
   "source": [
    "print(f\"Response code: {response.status_code}\")\n",
    "pprint.pprint(f\"Response code: {response.status_code}\")\n",
    "parsed = json.loads(response.content)\n",
    "print(\"Response content:\")\n",
    "pprint.pprint(parsed)"
   ]
  },
  {
   "cell_type": "code",
   "execution_count": null,
   "id": "df2268b2",
   "metadata": {},
   "outputs": [],
   "source": []
  }
 ],
 "metadata": {
  "kernelspec": {
   "display_name": "Python 3 (ipykernel)",
   "language": "python",
   "name": "python3"
  },
  "language_info": {
   "codemirror_mode": {
    "name": "ipython",
    "version": 3
   },
   "file_extension": ".py",
   "mimetype": "text/x-python",
   "name": "python",
   "nbconvert_exporter": "python",
   "pygments_lexer": "ipython3",
   "version": "3.12.3"
  }
 },
 "nbformat": 4,
 "nbformat_minor": 5
}

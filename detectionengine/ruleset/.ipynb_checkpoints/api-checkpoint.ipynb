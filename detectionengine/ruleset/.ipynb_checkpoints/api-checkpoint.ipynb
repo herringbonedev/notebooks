{
 "cells": [
  {
   "cell_type": "code",
   "execution_count": 11,
   "id": "2ba5ac74",
   "metadata": {},
   "outputs": [],
   "source": [
    "# detectionengine/ruleset/* API\n",
    "#\n",
    "# Project Herringbone\n",
    "\n",
    "import requests\n",
    "import json\n",
    "import pprint\n",
    "\n",
    "https = False\n",
    "api = \"192.168.122.243\"\n",
    "port = 7002"
   ]
  },
  {
   "cell_type": "code",
   "execution_count": 23,
   "id": "6a37b41a",
   "metadata": {},
   "outputs": [],
   "source": [
    "# Insert rule\n",
    "\n",
    "rule = {\n",
    "\"type\":\"mind\",            # Only availabile type at this time is mind\n",
    "\"name\":\"Test Rule\",       # Give your rule a name\n",
    "\"prompt\":\"The domain herringbone-test.dev is malicious.\",              # AI Prompt\n",
    "\"data\":{\"key\":\"value\"}    # Dictionary of data to include in prompt for detections\n",
    "}\n",
    "\n",
    "url = api +\":\"+ str(port) +\"/detectionengine/ruleset/insert_rule\"\n",
    "url = (\"https://\" if https else \"http://\") + url.lstrip(\"http://\").lstrip(\"https://\")\n",
    "\n",
    "response = requests.post(url,\n",
    "                         headers =  {\"Content-Type\": \"application/json\",\n",
    "                                     \"Accept\": \"application/json\"},\n",
    "                         data=json.dumps(rule))"
   ]
  },
  {
   "cell_type": "code",
   "execution_count": 12,
   "id": "635162ef",
   "metadata": {},
   "outputs": [
    {
     "name": "stdout",
     "output_type": "stream",
     "text": [
      "Response code: 200\n",
      "'Response code: 200'\n",
      "Response content:\n",
      "[{'_id': {'$oid': '68b5b66b05ed7643d8e6ac07'},\n",
      "  'data': {'key': 'value'},\n",
      "  'name': 'Test Rule',\n",
      "  'prompt': 'The domain herringbone-test.dev is malicious.',\n",
      "  'type': 'mind'}]\n"
     ]
    }
   ],
   "source": [
    "print(f\"Response code: {response.status_code}\")\n",
    "pprint.pprint(f\"Response code: {response.status_code}\")\n",
    "parsed = json.loads(response.content)\n",
    "print(\"Response content:\")\n",
    "pprint.pprint(parsed)"
   ]
  },
  {
   "cell_type": "code",
   "execution_count": 9,
   "id": "166ce7b3",
   "metadata": {},
   "outputs": [],
   "source": [
    "# Get rules\n",
    "\n",
    "url = api +\":\"+ str(port) +\"/detectionengine/ruleset/get_rules\"\n",
    "url = (\"https://\" if https else \"http://\") + url.lstrip(\"http://\").lstrip(\"https://\")\n",
    "\n",
    "response = requests.get(url)"
   ]
  },
  {
   "cell_type": "code",
   "execution_count": 10,
   "id": "ce3b4a2f",
   "metadata": {},
   "outputs": [
    {
     "name": "stdout",
     "output_type": "stream",
     "text": [
      "Response code: 200\n",
      "Response content: [{'_id': {'$oid': '68b5b66b05ed7643d8e6ac07'}, 'type': 'mind', 'name': 'Test Rule', 'prompt': 'The domain herringbone-test.dev is malicious.', 'data': {'key': 'value'}}]\n"
     ]
    }
   ],
   "source": [
    "print(f\"Response code: {response.status_code}\")\n",
    "pprint.pprint(f\"Response code: {response.status_code}\")\n",
    "parsed = json.loads(response.content)\n",
    "print(\"Response content:\")\n",
    "pprint.pprint(parsed)"
   ]
  },
  {
   "cell_type": "code",
   "execution_count": 51,
   "id": "fc6375d5",
   "metadata": {},
   "outputs": [],
   "source": [
    "# Delete rule by _id\n",
    "\n",
    "rule_id = \"68b3763605ed7643d8e69e44\"    # _id of rule to be deleted\n",
    "\n",
    "url = api +\":\"+ str(port) +\"/detectionengine/ruleset/delete_rule?id=\"+ rule_id\n",
    "url = (\"https://\" if https else \"http://\") + url.lstrip(\"http://\").lstrip(\"https://\")\n",
    "\n",
    "response = requests.get(url)"
   ]
  },
  {
   "cell_type": "code",
   "execution_count": 52,
   "id": "44795ce8",
   "metadata": {},
   "outputs": [
    {
     "name": "stdout",
     "output_type": "stream",
     "text": [
      "Response code: 200\n",
      "Response content: {'deleted': True}\n"
     ]
    }
   ],
   "source": [
    "print(f\"Response code: {response.status_code}\")\n",
    "print(f\"Response content: {json.loads(response.content)}\")"
   ]
  },
  {
   "cell_type": "code",
   "execution_count": null,
   "id": "0f269c01",
   "metadata": {},
   "outputs": [],
   "source": []
  }
 ],
 "metadata": {
  "kernelspec": {
   "display_name": "Python 3 (ipykernel)",
   "language": "python",
   "name": "python3"
  },
  "language_info": {
   "codemirror_mode": {
    "name": "ipython",
    "version": 3
   },
   "file_extension": ".py",
   "mimetype": "text/x-python",
   "name": "python",
   "nbconvert_exporter": "python",
   "pygments_lexer": "ipython3",
   "version": "3.12.3"
  }
 },
 "nbformat": 4,
 "nbformat_minor": 5
}

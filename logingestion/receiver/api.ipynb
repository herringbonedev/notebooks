{
 "cells": [
  {
   "cell_type": "code",
   "execution_count": 12,
   "id": "a3374fd1",
   "metadata": {},
   "outputs": [],
   "source": [
    "# /receiver API\n",
    "#\n",
    "# Project Herringbone\n",
    "\n",
    "import requests\n",
    "import json\n",
    "\n",
    "https = False\n",
    "api = \"192.168.122.245\"\n",
    "port = 7002"
   ]
  },
  {
   "cell_type": "code",
   "execution_count": 13,
   "id": "9ce8c0e1",
   "metadata": {},
   "outputs": [
    {
     "name": "stdout",
     "output_type": "stream",
     "text": [
      "Response code: 200\n",
      "Response content: b'Data received'\n",
      "Response code: 200\n",
      "Response content: b'Data received'\n",
      "Response code: 200\n",
      "Response content: b'Data received'\n"
     ]
    }
   ],
   "source": [
    "logs = [\n",
    "\"2025-09-01T03:47:12Z server01 kernel[4521]: [INFO] eth0: packet dropped, src=192.168.1.44 dst=10.0.0.12 proto=UDP len=512\",\n",
    "\"2025-09-01T03:47:13Z server01 sshd[1832]: Accepted password for user alice from 203.0.113.55 port 54022 ssh2\",\n",
    "\"2025-09-01T03:47:13Z server01 sudo[1832]: alice : TTY=pts/1 ; PWD=/home/alice ; USER=root ; COMMAND=/usr/bin/systemctl restart apache2\"\n",
    "]\n",
    "\n",
    "for log in logs:\n",
    "    url = api +\":\"+ str(port) +\"/receiver?data=\"+ log\n",
    "    url = (\"https://\" if https else \"http://\") + url.lstrip(\"http://\").lstrip(\"https://\")\n",
    "    response = requests.get(url)\n",
    "    print(f\"Response code: {response.status_code}\")\n",
    "    print(f\"Response content: {response.content}\")"
   ]
  },
  {
   "cell_type": "code",
   "execution_count": null,
   "id": "39a0cc15",
   "metadata": {},
   "outputs": [],
   "source": []
  }
 ],
 "metadata": {
  "kernelspec": {
   "display_name": "Python 3 (ipykernel)",
   "language": "python",
   "name": "python3"
  },
  "language_info": {
   "codemirror_mode": {
    "name": "ipython",
    "version": 3
   },
   "file_extension": ".py",
   "mimetype": "text/x-python",
   "name": "python",
   "nbconvert_exporter": "python",
   "pygments_lexer": "ipython3",
   "version": "3.12.3"
  }
 },
 "nbformat": 4,
 "nbformat_minor": 5
}
